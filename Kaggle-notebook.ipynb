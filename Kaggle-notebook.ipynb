{
 "cells": [
  {
   "cell_type": "code",
   "execution_count": 1,
   "id": "d8d163fe",
   "metadata": {
    "_cell_guid": "b1076dfc-b9ad-4769-8c92-a6c4dae69d19",
    "_uuid": "8f2839f25d086af736a60e9eeb907d3b93b6e0e5",
    "execution": {
     "iopub.execute_input": "2024-07-02T06:32:36.389631Z",
     "iopub.status.busy": "2024-07-02T06:32:36.388975Z",
     "iopub.status.idle": "2024-07-02T06:32:36.411242Z",
     "shell.execute_reply": "2024-07-02T06:32:36.409586Z"
    },
    "papermill": {
     "duration": 0.035554,
     "end_time": "2024-07-02T06:32:36.414792",
     "exception": false,
     "start_time": "2024-07-02T06:32:36.379238",
     "status": "completed"
    },
    "tags": []
   },
   "outputs": [
    {
     "name": "stdout",
     "output_type": "stream",
     "text": [
      "/kaggle/input/e-commerce-shoppers-behaviour-understanding/test_data_v2.csv\n",
      "/kaggle/input/e-commerce-shoppers-behaviour-understanding/train_data_v2.csv\n",
      "/kaggle/input/e-commerce-shoppers-behaviour-understanding/sample.csv\n"
     ]
    }
   ],
   "source": [
    "# This Python 3 environment comes with many helpful analytics libraries installed\n",
    "# It is defined by the kaggle/python Docker image: https://github.com/kaggle/docker-python\n",
    "# For example, here's several helpful packages to load\n",
    "\n",
    "import numpy as np # linear algebra\n",
    "import pandas as pd # data processing, CSV file I/O (e.g. pd.read_csv)\n",
    "\n",
    "# Input data files are available in the read-only \"../input/\" directory\n",
    "# For example, running this (by clicking run or pressing Shift+Enter) will list all files under the input directory\n",
    "\n",
    "import os\n",
    "for dirname, _, filenames in os.walk('/kaggle/input'):\n",
    "    for filename in filenames:\n",
    "        print(os.path.join(dirname, filename))\n",
    "\n",
    "# You can write up to 20GB to the current directory (/kaggle/working/) that gets preserved as output when you create a version using \"Save & Run All\" \n",
    "# You can also write temporary files to /kaggle/temp/, but they won't be saved outside of the current session"
   ]
  },
  {
   "cell_type": "code",
   "execution_count": 2,
   "id": "41475a73",
   "metadata": {
    "execution": {
     "iopub.execute_input": "2024-07-02T06:32:36.430124Z",
     "iopub.status.busy": "2024-07-02T06:32:36.429676Z",
     "iopub.status.idle": "2024-07-02T06:32:36.594330Z",
     "shell.execute_reply": "2024-07-02T06:32:36.593092Z"
    },
    "papermill": {
     "duration": 0.175977,
     "end_time": "2024-07-02T06:32:36.597584",
     "exception": false,
     "start_time": "2024-07-02T06:32:36.421607",
     "status": "completed"
    },
    "tags": []
   },
   "outputs": [],
   "source": [
    "test_df = pd.read_csv(\"/kaggle/input/e-commerce-shoppers-behaviour-understanding/test_data_v2.csv\")\n",
    "train_df = pd.read_csv(\"/kaggle/input/e-commerce-shoppers-behaviour-understanding/train_data_v2.csv\")\n",
    "sample_data = pd.read_csv(\"/kaggle/input/e-commerce-shoppers-behaviour-understanding/sample.csv\")\n",
    "\n"
   ]
  },
  {
   "cell_type": "code",
   "execution_count": 3,
   "id": "46285c79",
   "metadata": {
    "execution": {
     "iopub.execute_input": "2024-07-02T06:32:36.613402Z",
     "iopub.status.busy": "2024-07-02T06:32:36.612990Z",
     "iopub.status.idle": "2024-07-02T06:32:36.618692Z",
     "shell.execute_reply": "2024-07-02T06:32:36.617206Z"
    },
    "papermill": {
     "duration": 0.016619,
     "end_time": "2024-07-02T06:32:36.621393",
     "exception": false,
     "start_time": "2024-07-02T06:32:36.604774",
     "status": "completed"
    },
    "tags": []
   },
   "outputs": [],
   "source": [
    "#"
   ]
  },
  {
   "cell_type": "code",
   "execution_count": 4,
   "id": "b5192d9f",
   "metadata": {
    "execution": {
     "iopub.execute_input": "2024-07-02T06:32:36.636212Z",
     "iopub.status.busy": "2024-07-02T06:32:36.635746Z",
     "iopub.status.idle": "2024-07-02T06:32:36.679648Z",
     "shell.execute_reply": "2024-07-02T06:32:36.678316Z"
    },
    "papermill": {
     "duration": 0.054611,
     "end_time": "2024-07-02T06:32:36.682600",
     "exception": false,
     "start_time": "2024-07-02T06:32:36.627989",
     "status": "completed"
    },
    "tags": []
   },
   "outputs": [
    {
     "name": "stdout",
     "output_type": "stream",
     "text": [
      "<class 'pandas.core.frame.DataFrame'>\n",
      "RangeIndex: 14731 entries, 0 to 14730\n",
      "Data columns (total 22 columns):\n",
      " #   Column                           Non-Null Count  Dtype  \n",
      "---  ------                           --------------  -----  \n",
      " 0   HomePage                         14578 non-null  float64\n",
      " 1   HomePage_Duration                14581 non-null  float64\n",
      " 2   LandingPage                      14578 non-null  float64\n",
      " 3   LandingPage_Duration             14596 non-null  float64\n",
      " 4   ProductDescriptionPage           14608 non-null  float64\n",
      " 5   ProductDescriptionPage_Duration  14564 non-null  float64\n",
      " 6   GoogleMetric:Bounce Rates        14580 non-null  float64\n",
      " 7   GoogleMetric:Exit Rates          14602 non-null  float64\n",
      " 8   GoogleMetric:Page Values         14599 non-null  float64\n",
      " 9   SeasonalPurchase                 14581 non-null  float64\n",
      " 10  Month_SeasonalPurchase           14587 non-null  object \n",
      " 11  OS                               14597 non-null  float64\n",
      " 12  SearchEngine                     14609 non-null  float64\n",
      " 13  Zone                             14614 non-null  float64\n",
      " 14  Type of Traffic                  14588 non-null  float64\n",
      " 15  CustomerType                     14587 non-null  object \n",
      " 16  Gender                           14586 non-null  object \n",
      " 17  Cookies Setting                  14587 non-null  object \n",
      " 18  Education                        14595 non-null  object \n",
      " 19  Marital Status                   14601 non-null  object \n",
      " 20  WeekendPurchase                  14610 non-null  float64\n",
      " 21  Made_Purchase                    14731 non-null  bool   \n",
      "dtypes: bool(1), float64(15), object(6)\n",
      "memory usage: 2.4+ MB\n"
     ]
    }
   ],
   "source": [
    "train_df.info()"
   ]
  },
  {
   "cell_type": "code",
   "execution_count": 5,
   "id": "29332d72",
   "metadata": {
    "execution": {
     "iopub.execute_input": "2024-07-02T06:32:36.698164Z",
     "iopub.status.busy": "2024-07-02T06:32:36.697706Z",
     "iopub.status.idle": "2024-07-02T06:32:38.021418Z",
     "shell.execute_reply": "2024-07-02T06:32:38.020100Z"
    },
    "papermill": {
     "duration": 1.334768,
     "end_time": "2024-07-02T06:32:38.024356",
     "exception": false,
     "start_time": "2024-07-02T06:32:36.689588",
     "status": "completed"
    },
    "tags": []
   },
   "outputs": [
    {
     "name": "stderr",
     "output_type": "stream",
     "text": [
      "/opt/conda/lib/python3.7/site-packages/sklearn/utils/deprecation.py:87: FutureWarning: Function get_feature_names is deprecated; get_feature_names is deprecated in 1.0 and will be removed in 1.2. Please use get_feature_names_out instead.\n",
      "  warnings.warn(msg, category=FutureWarning)\n"
     ]
    }
   ],
   "source": [
    "from sklearn.preprocessing import OneHotEncoder\n",
    "encode=['Month_SeasonalPurchase','CustomerType','Gender','Cookies Setting','Education','Marital Status']\n",
    "encoder=OneHotEncoder(handle_unknown='ignore')\n",
    "encoder.fit(train_df[encode])\n",
    "encoded_columns = encoder.transform(train_df[encode]).toarray()\n",
    "train_dfe=pd.DataFrame(encoded_columns, columns=encoder.get_feature_names(encode))\n",
    "train_df = pd.concat([train_df, train_dfe], axis=1)\n",
    "train_df.drop(encode,axis=1,inplace=True)"
   ]
  },
  {
   "cell_type": "code",
   "execution_count": 6,
   "id": "32097976",
   "metadata": {
    "execution": {
     "iopub.execute_input": "2024-07-02T06:32:38.039681Z",
     "iopub.status.busy": "2024-07-02T06:32:38.039245Z",
     "iopub.status.idle": "2024-07-02T06:32:38.084188Z",
     "shell.execute_reply": "2024-07-02T06:32:38.082770Z"
    },
    "papermill": {
     "duration": 0.055948,
     "end_time": "2024-07-02T06:32:38.087065",
     "exception": false,
     "start_time": "2024-07-02T06:32:38.031117",
     "status": "completed"
    },
    "tags": []
   },
   "outputs": [
    {
     "name": "stderr",
     "output_type": "stream",
     "text": [
      "/opt/conda/lib/python3.7/site-packages/sklearn/utils/deprecation.py:87: FutureWarning: Function get_feature_names is deprecated; get_feature_names is deprecated in 1.0 and will be removed in 1.2. Please use get_feature_names_out instead.\n",
      "  warnings.warn(msg, category=FutureWarning)\n"
     ]
    }
   ],
   "source": [
    "encoder.fit(test_df[encode])\n",
    "encoded_columnss = encoder.transform(test_df[encode]).toarray()\n",
    "test_dfe=pd.DataFrame(encoded_columnss, columns=encoder.get_feature_names(encode))\n",
    "test_df = pd.concat([test_df, test_dfe], axis=1)\n",
    "test_df.drop(encode,axis=1,inplace=True)"
   ]
  },
  {
   "cell_type": "code",
   "execution_count": 7,
   "id": "2e63408b",
   "metadata": {
    "execution": {
     "iopub.execute_input": "2024-07-02T06:32:38.102465Z",
     "iopub.status.busy": "2024-07-02T06:32:38.102023Z",
     "iopub.status.idle": "2024-07-02T06:32:38.140792Z",
     "shell.execute_reply": "2024-07-02T06:32:38.139506Z"
    },
    "papermill": {
     "duration": 0.050058,
     "end_time": "2024-07-02T06:32:38.143996",
     "exception": false,
     "start_time": "2024-07-02T06:32:38.093938",
     "status": "completed"
    },
    "tags": []
   },
   "outputs": [],
   "source": [
    "train_df=train_df.fillna(train_df.mean())\n",
    "test_df=test_df.fillna(test_df.mean())"
   ]
  },
  {
   "cell_type": "code",
   "execution_count": 8,
   "id": "d4b3f191",
   "metadata": {
    "execution": {
     "iopub.execute_input": "2024-07-02T06:32:38.159782Z",
     "iopub.status.busy": "2024-07-02T06:32:38.159032Z",
     "iopub.status.idle": "2024-07-02T06:32:38.167657Z",
     "shell.execute_reply": "2024-07-02T06:32:38.166438Z"
    },
    "papermill": {
     "duration": 0.019685,
     "end_time": "2024-07-02T06:32:38.170456",
     "exception": false,
     "start_time": "2024-07-02T06:32:38.150771",
     "status": "completed"
    },
    "tags": []
   },
   "outputs": [],
   "source": [
    "Xt=train_df.drop('Made_Purchase',axis='columns')\n",
    "yt=train_df['Made_Purchase']"
   ]
  },
  {
   "cell_type": "code",
   "execution_count": 9,
   "id": "8b0b11b0",
   "metadata": {
    "execution": {
     "iopub.execute_input": "2024-07-02T06:32:38.186187Z",
     "iopub.status.busy": "2024-07-02T06:32:38.185741Z",
     "iopub.status.idle": "2024-07-02T06:32:38.191434Z",
     "shell.execute_reply": "2024-07-02T06:32:38.190070Z"
    },
    "papermill": {
     "duration": 0.016796,
     "end_time": "2024-07-02T06:32:38.194252",
     "exception": false,
     "start_time": "2024-07-02T06:32:38.177456",
     "status": "completed"
    },
    "tags": []
   },
   "outputs": [],
   "source": [
    "##"
   ]
  },
  {
   "cell_type": "code",
   "execution_count": 10,
   "id": "be5797a8",
   "metadata": {
    "execution": {
     "iopub.execute_input": "2024-07-02T06:32:38.210013Z",
     "iopub.status.busy": "2024-07-02T06:32:38.209507Z",
     "iopub.status.idle": "2024-07-02T06:32:51.654500Z",
     "shell.execute_reply": "2024-07-02T06:32:51.653105Z"
    },
    "papermill": {
     "duration": 13.456801,
     "end_time": "2024-07-02T06:32:51.657961",
     "exception": false,
     "start_time": "2024-07-02T06:32:38.201160",
     "status": "completed"
    },
    "tags": []
   },
   "outputs": [
    {
     "data": {
      "text/plain": [
       "AdaBoostClassifier(learning_rate=0.001, n_estimators=600, random_state=0)"
      ]
     },
     "execution_count": 10,
     "metadata": {},
     "output_type": "execute_result"
    }
   ],
   "source": [
    "from sklearn.ensemble import AdaBoostClassifier\n",
    "ac=AdaBoostClassifier(n_estimators=600,learning_rate=0.001,random_state=0)\n",
    "ac.fit(Xt,yt)\n"
   ]
  },
  {
   "cell_type": "code",
   "execution_count": 11,
   "id": "ca0ac7e1",
   "metadata": {
    "execution": {
     "iopub.execute_input": "2024-07-02T06:32:51.674503Z",
     "iopub.status.busy": "2024-07-02T06:32:51.674036Z",
     "iopub.status.idle": "2024-07-02T06:32:52.547607Z",
     "shell.execute_reply": "2024-07-02T06:32:52.546405Z"
    },
    "papermill": {
     "duration": 0.885141,
     "end_time": "2024-07-02T06:32:52.550612",
     "exception": false,
     "start_time": "2024-07-02T06:32:51.665471",
     "status": "completed"
    },
    "tags": []
   },
   "outputs": [],
   "source": [
    "test_df['Made_Purchase']=ac.predict(test_df)"
   ]
  },
  {
   "cell_type": "code",
   "execution_count": 12,
   "id": "c5c27dba",
   "metadata": {
    "execution": {
     "iopub.execute_input": "2024-07-02T06:32:52.566516Z",
     "iopub.status.busy": "2024-07-02T06:32:52.566063Z",
     "iopub.status.idle": "2024-07-02T06:32:52.571080Z",
     "shell.execute_reply": "2024-07-02T06:32:52.569944Z"
    },
    "papermill": {
     "duration": 0.016799,
     "end_time": "2024-07-02T06:32:52.574477",
     "exception": false,
     "start_time": "2024-07-02T06:32:52.557678",
     "status": "completed"
    },
    "tags": []
   },
   "outputs": [],
   "source": [
    "##"
   ]
  },
  {
   "cell_type": "code",
   "execution_count": 13,
   "id": "8b2a91f1",
   "metadata": {
    "execution": {
     "iopub.execute_input": "2024-07-02T06:32:52.590372Z",
     "iopub.status.busy": "2024-07-02T06:32:52.589904Z",
     "iopub.status.idle": "2024-07-02T06:32:52.595441Z",
     "shell.execute_reply": "2024-07-02T06:32:52.594174Z"
    },
    "papermill": {
     "duration": 0.016659,
     "end_time": "2024-07-02T06:32:52.598216",
     "exception": false,
     "start_time": "2024-07-02T06:32:52.581557",
     "status": "completed"
    },
    "tags": []
   },
   "outputs": [],
   "source": [
    "# from sklearn.linear_model import LogisticRegression\n",
    "# lr=LogisticRegression(max_iter=1000)\n",
    "# lr.fit(Xt,yt)"
   ]
  },
  {
   "cell_type": "code",
   "execution_count": 14,
   "id": "7f0ac29b",
   "metadata": {
    "execution": {
     "iopub.execute_input": "2024-07-02T06:32:52.614736Z",
     "iopub.status.busy": "2024-07-02T06:32:52.614260Z",
     "iopub.status.idle": "2024-07-02T06:32:52.619798Z",
     "shell.execute_reply": "2024-07-02T06:32:52.618512Z"
    },
    "papermill": {
     "duration": 0.017337,
     "end_time": "2024-07-02T06:32:52.622528",
     "exception": false,
     "start_time": "2024-07-02T06:32:52.605191",
     "status": "completed"
    },
    "tags": []
   },
   "outputs": [],
   "source": [
    "# test_df['Made_Purchase']=lr.predict(test_df)"
   ]
  },
  {
   "cell_type": "code",
   "execution_count": 15,
   "id": "566f1a9b",
   "metadata": {
    "execution": {
     "iopub.execute_input": "2024-07-02T06:32:52.639480Z",
     "iopub.status.busy": "2024-07-02T06:32:52.639028Z",
     "iopub.status.idle": "2024-07-02T06:32:52.657032Z",
     "shell.execute_reply": "2024-07-02T06:32:52.655223Z"
    },
    "papermill": {
     "duration": 0.030879,
     "end_time": "2024-07-02T06:32:52.660371",
     "exception": false,
     "start_time": "2024-07-02T06:32:52.629492",
     "status": "completed"
    },
    "tags": []
   },
   "outputs": [
    {
     "name": "stdout",
     "output_type": "stream",
     "text": [
      "<class 'pandas.core.frame.DataFrame'>\n",
      "RangeIndex: 6599 entries, 0 to 6598\n",
      "Data columns (total 48 columns):\n",
      " #   Column                           Non-Null Count  Dtype  \n",
      "---  ------                           --------------  -----  \n",
      " 0   HomePage                         6599 non-null   float64\n",
      " 1   HomePage_Duration                6599 non-null   float64\n",
      " 2   LandingPage                      6599 non-null   float64\n",
      " 3   LandingPage_Duration             6599 non-null   float64\n",
      " 4   ProductDescriptionPage           6599 non-null   float64\n",
      " 5   ProductDescriptionPage_Duration  6599 non-null   float64\n",
      " 6   GoogleMetric:Bounce Rates        6599 non-null   float64\n",
      " 7   GoogleMetric:Exit Rates          6599 non-null   float64\n",
      " 8   GoogleMetric:Page Values         6599 non-null   float64\n",
      " 9   SeasonalPurchase                 6599 non-null   float64\n",
      " 10  OS                               6599 non-null   float64\n",
      " 11  SearchEngine                     6599 non-null   float64\n",
      " 12  Zone                             6599 non-null   float64\n",
      " 13  Type of Traffic                  6599 non-null   float64\n",
      " 14  WeekendPurchase                  6599 non-null   float64\n",
      " 15  Month_SeasonalPurchase_Aug       6599 non-null   float64\n",
      " 16  Month_SeasonalPurchase_Dec       6599 non-null   float64\n",
      " 17  Month_SeasonalPurchase_Feb       6599 non-null   float64\n",
      " 18  Month_SeasonalPurchase_Jul       6599 non-null   float64\n",
      " 19  Month_SeasonalPurchase_June      6599 non-null   float64\n",
      " 20  Month_SeasonalPurchase_Mar       6599 non-null   float64\n",
      " 21  Month_SeasonalPurchase_May       6599 non-null   float64\n",
      " 22  Month_SeasonalPurchase_Nov       6599 non-null   float64\n",
      " 23  Month_SeasonalPurchase_Oct       6599 non-null   float64\n",
      " 24  Month_SeasonalPurchase_Sep       6599 non-null   float64\n",
      " 25  Month_SeasonalPurchase_nan       6599 non-null   float64\n",
      " 26  CustomerType_New_Visitor         6599 non-null   float64\n",
      " 27  CustomerType_Other               6599 non-null   float64\n",
      " 28  CustomerType_Returning_Visitor   6599 non-null   float64\n",
      " 29  CustomerType_nan                 6599 non-null   float64\n",
      " 30  Gender_Female                    6599 non-null   float64\n",
      " 31  Gender_Male                      6599 non-null   float64\n",
      " 32  Gender_Not Specified             6599 non-null   float64\n",
      " 33  Gender_nan                       6599 non-null   float64\n",
      " 34  Cookies Setting_ALL              6599 non-null   float64\n",
      " 35  Cookies Setting_Deny             6599 non-null   float64\n",
      " 36  Cookies Setting_Required         6599 non-null   float64\n",
      " 37  Cookies Setting_nan              6599 non-null   float64\n",
      " 38  Education_Diploma                6599 non-null   float64\n",
      " 39  Education_Graduate               6599 non-null   float64\n",
      " 40  Education_Not Specified          6599 non-null   float64\n",
      " 41  Education_Others                 6599 non-null   float64\n",
      " 42  Education_nan                    6599 non-null   float64\n",
      " 43  Marital Status_Married           6599 non-null   float64\n",
      " 44  Marital Status_Other             6599 non-null   float64\n",
      " 45  Marital Status_Single            6599 non-null   float64\n",
      " 46  Marital Status_nan               6599 non-null   float64\n",
      " 47  Made_Purchase                    6599 non-null   bool   \n",
      "dtypes: bool(1), float64(47)\n",
      "memory usage: 2.4 MB\n"
     ]
    }
   ],
   "source": [
    "test_df.info()"
   ]
  },
  {
   "cell_type": "code",
   "execution_count": 16,
   "id": "423e203c",
   "metadata": {
    "execution": {
     "iopub.execute_input": "2024-07-02T06:32:52.677165Z",
     "iopub.status.busy": "2024-07-02T06:32:52.676705Z",
     "iopub.status.idle": "2024-07-02T06:32:52.707866Z",
     "shell.execute_reply": "2024-07-02T06:32:52.706431Z"
    },
    "papermill": {
     "duration": 0.042767,
     "end_time": "2024-07-02T06:32:52.710709",
     "exception": false,
     "start_time": "2024-07-02T06:32:52.667942",
     "status": "completed"
    },
    "tags": []
   },
   "outputs": [
    {
     "name": "stderr",
     "output_type": "stream",
     "text": [
      "/opt/conda/lib/python3.7/site-packages/pandas/core/frame.py:5047: SettingWithCopyWarning: \n",
      "A value is trying to be set on a copy of a slice from a DataFrame\n",
      "\n",
      "See the caveats in the documentation: https://pandas.pydata.org/pandas-docs/stable/user_guide/indexing.html#returning-a-view-versus-a-copy\n",
      "  errors=errors,\n"
     ]
    }
   ],
   "source": [
    "tx=test_df[['Made_Purchase']]\n",
    "tx.reset_index(inplace=True)\n",
    "tx.rename(columns={'index': 'id'}, inplace=True)\n",
    "# tx.index.name = 'id'\n",
    "# .to_csv('submission.csv',index=False)\n",
    "tx.to_csv('submission.csv',index=False)"
   ]
  }
 ],
 "metadata": {
  "kaggle": {
   "accelerator": "none",
   "dataSources": [
    {
     "databundleVersionId": 4817545,
     "sourceId": 44639,
     "sourceType": "competition"
    }
   ],
   "dockerImageVersionId": 30301,
   "isGpuEnabled": false,
   "isInternetEnabled": true,
   "language": "python",
   "sourceType": "notebook"
  },
  "kernelspec": {
   "display_name": "Python 3",
   "language": "python",
   "name": "python3"
  },
  "language_info": {
   "codemirror_mode": {
    "name": "ipython",
    "version": 3
   },
   "file_extension": ".py",
   "mimetype": "text/x-python",
   "name": "python",
   "nbconvert_exporter": "python",
   "pygments_lexer": "ipython3",
   "version": "3.7.12"
  },
  "papermill": {
   "default_parameters": {},
   "duration": 29.689978,
   "end_time": "2024-07-02T06:32:53.541277",
   "environment_variables": {},
   "exception": null,
   "input_path": "__notebook__.ipynb",
   "output_path": "__notebook__.ipynb",
   "parameters": {},
   "start_time": "2024-07-02T06:32:23.851299",
   "version": "2.3.4"
  }
 },
 "nbformat": 4,
 "nbformat_minor": 5
}
